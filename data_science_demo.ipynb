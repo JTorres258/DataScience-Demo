{
  "nbformat": 4,
  "nbformat_minor": 0,
  "metadata": {
    "colab": {
      "provenance": [],
      "authorship_tag": "ABX9TyP+jLMriwoVwK9wOSJ/TRt+",
      "include_colab_link": true
    },
    "kernelspec": {
      "name": "python3",
      "display_name": "Python 3"
    },
    "language_info": {
      "name": "python"
    }
  },
  "cells": [
    {
      "cell_type": "markdown",
      "metadata": {
        "id": "view-in-github",
        "colab_type": "text"
      },
      "source": [
        "<a href=\"https://colab.research.google.com/github/JTorres258/DataScience-Demo/blob/main/data_science_demo.ipynb\" target=\"_parent\"><img src=\"https://colab.research.google.com/assets/colab-badge.svg\" alt=\"Open In Colab\"/></a>"
      ]
    },
    {
      "cell_type": "markdown",
      "source": [
        "## Ingest"
      ],
      "metadata": {
        "id": "SiOAFw699CTF"
      }
    },
    {
      "cell_type": "code",
      "source": [],
      "metadata": {
        "id": "i2SVmXGg9Dvy"
      },
      "execution_count": null,
      "outputs": []
    },
    {
      "cell_type": "markdown",
      "source": [
        "## EDA"
      ],
      "metadata": {
        "id": "ZB5tOt7e9EF3"
      }
    },
    {
      "cell_type": "code",
      "source": [],
      "metadata": {
        "id": "7AudXXcg9EUY"
      },
      "execution_count": null,
      "outputs": []
    },
    {
      "cell_type": "markdown",
      "source": [
        "## Modeling"
      ],
      "metadata": {
        "id": "f0yvMC2Y9Ej4"
      }
    },
    {
      "cell_type": "code",
      "source": [],
      "metadata": {
        "id": "14jy7Gk_9EzE"
      },
      "execution_count": null,
      "outputs": []
    },
    {
      "cell_type": "markdown",
      "source": [
        "## Conclusion"
      ],
      "metadata": {
        "id": "T6ToUzGM9FCR"
      }
    },
    {
      "cell_type": "code",
      "source": [],
      "metadata": {
        "id": "51J9sNCw9FX9"
      },
      "execution_count": null,
      "outputs": []
    }
  ]
}